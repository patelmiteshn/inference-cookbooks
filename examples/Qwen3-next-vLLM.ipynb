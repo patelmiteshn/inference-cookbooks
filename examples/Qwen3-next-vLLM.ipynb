{
 "cells": [
  {
   "cell_type": "markdown",
   "metadata": {},
   "source": [
    "# Running Qwen3-next models with vLLM"
   ]
  },
  {
   "cell_type": "markdown",
   "metadata": {},
   "source": [
    "This notebook provides a step-by-step guide on how to download and run `Qwen3-next` model using vLLM on NVIDIA GPUs for high-performance inference. vLLM is an open-source library that makes Large Language Model (LLM) inference and serving faster and more efficient by using an advanced memory management and continuous batching. It significantly increases model throughput, reduces GPU memory usage, and lowers infrastructure costs, making it a key tool for deploying LLMs at scale.\n",
    "\n",
    "`Qwen3-next`is a brand-new mdoel architecture that introduces several key improvements over its predesessor: a hybrid attention mechanism, a highly sparse Mixture-of-Experts (MoE) structure, training-stability-friendly optimizations, and a multi-token prediction mechanism for faster inference. It is an 80-billion-parameter model that activates only 3 billion parameters during inference. Refer to the [model card](https://huggingface.co/Qwen/Qwen3-Next-80B-A3B-Instruct) for more details. The `Qwen3-next` has two variants:\n",
    "\n",
    "- `Qwen3-Next-80B-A3B-Instruct`\n",
    "- `Qwen3-Next-80B-A3B-Thinking`"
   ]
  },
  {
   "cell_type": "markdown",
   "metadata": {},
   "source": [
    "#### Launch on NVIDIA Brev\n",
    "You can simplify the environment setup by using [NVIDIA Brev](https://developer.nvidia.com/brev). Click the button below to launch this project on a Brev instance with the necessary dependencies pre-configured.\n",
    "\n",
    "Once deployed, click on the \"Open Notebook\" button to get start with this guide\n",
    "\n",
    "[![Launch on Brev](https://brev-assets.s3.us-west-1.amazonaws.com/nv-lb-dark.svg)](https://brev.nvidia.com/launchable/deploy?launchableID=env-30i1YjHsRWT109HL6eYxLUeHIwF)"
   ]
  },
  {
   "cell_type": "markdown",
   "metadata": {},
   "source": [
    "## Prerequisites"
   ]
  },
  {
   "cell_type": "markdown",
   "metadata": {},
   "source": [
    "### Hardware\n",
    "To run the `Qwen3-Next-80B-A3B-Instruct` model, you will need an 4x A100 or 4xH200 NVIDIA \n",
    "\n",
    "### Software\n",
    "- CUDA Toolkit 12.8 or later\n",
    "- Python 3.12 or later\n",
    "- vllm 0.10.x"
   ]
  },
  {
   "cell_type": "markdown",
   "metadata": {},
   "source": [
    "## Installing vLLM\n",
    "\n",
    "To run `Qwen3-Next` models you will need to install the nightly build of vLLM. "
   ]
  },
  {
   "cell_type": "code",
   "execution_count": 16,
   "metadata": {},
   "outputs": [
    {
     "name": "stdout",
     "output_type": "stream",
     "text": [
      "Looking in indexes: https://pypi.org/simple, https://pypi.ngc.nvidia.com, https://wheels.vllm.ai/nightly\n",
      "Requirement already satisfied: vllm in /home/mitesh/miniconda3/envs/vllm_py312/lib/python3.12/site-packages (0.10.1.1)\n",
      "Requirement already satisfied: regex in /home/mitesh/miniconda3/envs/vllm_py312/lib/python3.12/site-packages (from vllm) (2024.11.6)\n",
      "Requirement already satisfied: cachetools in /home/mitesh/miniconda3/envs/vllm_py312/lib/python3.12/site-packages (from vllm) (5.5.2)\n",
      "Requirement already satisfied: psutil in /home/mitesh/miniconda3/envs/vllm_py312/lib/python3.12/site-packages (from vllm) (7.0.0)\n",
      "Requirement already satisfied: sentencepiece in /home/mitesh/miniconda3/envs/vllm_py312/lib/python3.12/site-packages (from vllm) (0.2.0)\n",
      "Requirement already satisfied: numpy in /home/mitesh/miniconda3/envs/vllm_py312/lib/python3.12/site-packages (from vllm) (2.2.5)\n",
      "Requirement already satisfied: requests>=2.26.0 in /home/mitesh/miniconda3/envs/vllm_py312/lib/python3.12/site-packages (from vllm) (2.32.3)\n",
      "Requirement already satisfied: tqdm in /home/mitesh/miniconda3/envs/vllm_py312/lib/python3.12/site-packages (from vllm) (4.67.1)\n",
      "Requirement already satisfied: blake3 in /home/mitesh/miniconda3/envs/vllm_py312/lib/python3.12/site-packages (from vllm) (1.0.4)\n",
      "Requirement already satisfied: py-cpuinfo in /home/mitesh/miniconda3/envs/vllm_py312/lib/python3.12/site-packages (from vllm) (9.0.0)\n",
      "Requirement already satisfied: transformers>=4.55.0 in /home/mitesh/miniconda3/envs/vllm_py312/lib/python3.12/site-packages (from vllm) (4.56.1)\n",
      "Requirement already satisfied: tokenizers>=0.21.1 in /home/mitesh/miniconda3/envs/vllm_py312/lib/python3.12/site-packages (from vllm) (0.22.0)\n",
      "Requirement already satisfied: protobuf in /home/mitesh/miniconda3/envs/vllm_py312/lib/python3.12/site-packages (from vllm) (4.25.7)\n",
      "Requirement already satisfied: fastapi>=0.115.0 in /home/mitesh/miniconda3/envs/vllm_py312/lib/python3.12/site-packages (from fastapi[standard]>=0.115.0->vllm) (0.115.12)\n",
      "Requirement already satisfied: aiohttp in /home/mitesh/miniconda3/envs/vllm_py312/lib/python3.12/site-packages (from vllm) (3.11.18)\n",
      "Requirement already satisfied: openai>=1.99.1 in /home/mitesh/miniconda3/envs/vllm_py312/lib/python3.12/site-packages (from vllm) (1.100.2)\n",
      "Requirement already satisfied: pydantic>=2.10 in /home/mitesh/miniconda3/envs/vllm_py312/lib/python3.12/site-packages (from vllm) (2.11.7)\n",
      "Requirement already satisfied: prometheus_client>=0.18.0 in /home/mitesh/miniconda3/envs/vllm_py312/lib/python3.12/site-packages (from vllm) (0.21.1)\n",
      "Requirement already satisfied: pillow in /home/mitesh/miniconda3/envs/vllm_py312/lib/python3.12/site-packages (from vllm) (11.2.1)\n",
      "Requirement already satisfied: prometheus-fastapi-instrumentator>=7.0.0 in /home/mitesh/miniconda3/envs/vllm_py312/lib/python3.12/site-packages (from vllm) (7.1.0)\n",
      "Requirement already satisfied: tiktoken>=0.6.0 in /home/mitesh/miniconda3/envs/vllm_py312/lib/python3.12/site-packages (from vllm) (0.9.0)\n",
      "Requirement already satisfied: lm-format-enforcer<0.11,>=0.10.11 in /home/mitesh/miniconda3/envs/vllm_py312/lib/python3.12/site-packages (from vllm) (0.10.11)\n",
      "Requirement already satisfied: llguidance<0.8.0,>=0.7.11 in /home/mitesh/miniconda3/envs/vllm_py312/lib/python3.12/site-packages (from vllm) (0.7.19)\n",
      "Requirement already satisfied: outlines_core==0.2.10 in /home/mitesh/miniconda3/envs/vllm_py312/lib/python3.12/site-packages (from vllm) (0.2.10)\n",
      "Requirement already satisfied: diskcache==5.6.3 in /home/mitesh/miniconda3/envs/vllm_py312/lib/python3.12/site-packages (from vllm) (5.6.3)\n",
      "Requirement already satisfied: lark==1.2.2 in /home/mitesh/miniconda3/envs/vllm_py312/lib/python3.12/site-packages (from vllm) (1.2.2)\n",
      "Requirement already satisfied: xgrammar==0.1.21 in /home/mitesh/miniconda3/envs/vllm_py312/lib/python3.12/site-packages (from vllm) (0.1.21)\n",
      "Requirement already satisfied: typing_extensions>=4.10 in /home/mitesh/miniconda3/envs/vllm_py312/lib/python3.12/site-packages (from vllm) (4.15.0)\n",
      "Requirement already satisfied: filelock>=3.16.1 in /home/mitesh/miniconda3/envs/vllm_py312/lib/python3.12/site-packages (from vllm) (3.18.0)\n",
      "Requirement already satisfied: partial-json-parser in /home/mitesh/miniconda3/envs/vllm_py312/lib/python3.12/site-packages (from vllm) (0.2.1.1.post5)\n",
      "Requirement already satisfied: pyzmq>=25.0.0 in /home/mitesh/miniconda3/envs/vllm_py312/lib/python3.12/site-packages (from vllm) (26.4.0)\n",
      "Requirement already satisfied: msgspec in /home/mitesh/miniconda3/envs/vllm_py312/lib/python3.12/site-packages (from vllm) (0.19.0)\n",
      "Requirement already satisfied: gguf>=0.13.0 in /home/mitesh/miniconda3/envs/vllm_py312/lib/python3.12/site-packages (from vllm) (0.16.2)\n",
      "Requirement already satisfied: mistral_common>=1.8.2 in /home/mitesh/miniconda3/envs/vllm_py312/lib/python3.12/site-packages (from mistral_common[audio,image]>=1.8.2->vllm) (1.8.4)\n",
      "Requirement already satisfied: opencv-python-headless>=4.11.0 in /home/mitesh/miniconda3/envs/vllm_py312/lib/python3.12/site-packages (from vllm) (4.11.0.86)\n",
      "Requirement already satisfied: pyyaml in /home/mitesh/miniconda3/envs/vllm_py312/lib/python3.12/site-packages (from vllm) (6.0.2)\n",
      "Requirement already satisfied: six>=1.16.0 in /home/mitesh/miniconda3/envs/vllm_py312/lib/python3.12/site-packages (from vllm) (1.17.0)\n",
      "Requirement already satisfied: setuptools<80,>=77.0.3 in /home/mitesh/miniconda3/envs/vllm_py312/lib/python3.12/site-packages (from vllm) (78.1.1)\n",
      "Requirement already satisfied: einops in /home/mitesh/miniconda3/envs/vllm_py312/lib/python3.12/site-packages (from vllm) (0.8.1)\n",
      "Requirement already satisfied: compressed-tensors==0.10.2 in /home/mitesh/miniconda3/envs/vllm_py312/lib/python3.12/site-packages (from vllm) (0.10.2)\n",
      "Requirement already satisfied: depyf==0.19.0 in /home/mitesh/miniconda3/envs/vllm_py312/lib/python3.12/site-packages (from vllm) (0.19.0)\n",
      "Requirement already satisfied: cloudpickle in /home/mitesh/miniconda3/envs/vllm_py312/lib/python3.12/site-packages (from vllm) (3.1.1)\n",
      "Requirement already satisfied: watchfiles in /home/mitesh/miniconda3/envs/vllm_py312/lib/python3.12/site-packages (from vllm) (1.0.5)\n",
      "Requirement already satisfied: python-json-logger in /home/mitesh/miniconda3/envs/vllm_py312/lib/python3.12/site-packages (from vllm) (3.3.0)\n",
      "Requirement already satisfied: scipy in /home/mitesh/miniconda3/envs/vllm_py312/lib/python3.12/site-packages (from vllm) (1.15.2)\n",
      "Requirement already satisfied: ninja in /home/mitesh/miniconda3/envs/vllm_py312/lib/python3.12/site-packages (from vllm) (1.11.1.4)\n",
      "Requirement already satisfied: pybase64 in /home/mitesh/miniconda3/envs/vllm_py312/lib/python3.12/site-packages (from vllm) (1.4.2)\n",
      "Requirement already satisfied: cbor2 in /home/mitesh/miniconda3/envs/vllm_py312/lib/python3.12/site-packages (from vllm) (5.7.0)\n",
      "Requirement already satisfied: setproctitle in /home/mitesh/miniconda3/envs/vllm_py312/lib/python3.12/site-packages (from vllm) (1.3.6)\n",
      "Requirement already satisfied: openai-harmony>=0.0.3 in /home/mitesh/miniconda3/envs/vllm_py312/lib/python3.12/site-packages (from vllm) (0.0.4)\n",
      "Requirement already satisfied: numba==0.61.2 in /home/mitesh/miniconda3/envs/vllm_py312/lib/python3.12/site-packages (from vllm) (0.61.2)\n",
      "Requirement already satisfied: ray>=2.48.0 in /home/mitesh/miniconda3/envs/vllm_py312/lib/python3.12/site-packages (from ray[cgraph]>=2.48.0->vllm) (2.48.0)\n",
      "Requirement already satisfied: torch==2.7.1 in /home/mitesh/miniconda3/envs/vllm_py312/lib/python3.12/site-packages (from vllm) (2.7.1)\n",
      "Requirement already satisfied: torchaudio==2.7.1 in /home/mitesh/miniconda3/envs/vllm_py312/lib/python3.12/site-packages (from vllm) (2.7.1)\n",
      "Requirement already satisfied: torchvision==0.22.1 in /home/mitesh/miniconda3/envs/vllm_py312/lib/python3.12/site-packages (from vllm) (0.22.1)\n",
      "Requirement already satisfied: xformers==0.0.31 in /home/mitesh/miniconda3/envs/vllm_py312/lib/python3.12/site-packages (from vllm) (0.0.31)\n",
      "Requirement already satisfied: astor in /home/mitesh/miniconda3/envs/vllm_py312/lib/python3.12/site-packages (from depyf==0.19.0->vllm) (0.8.1)\n",
      "Requirement already satisfied: dill in /home/mitesh/miniconda3/envs/vllm_py312/lib/python3.12/site-packages (from depyf==0.19.0->vllm) (0.4.0)\n",
      "Requirement already satisfied: llvmlite<0.45,>=0.44.0dev0 in /home/mitesh/miniconda3/envs/vllm_py312/lib/python3.12/site-packages (from numba==0.61.2->vllm) (0.44.0)\n",
      "Requirement already satisfied: sympy>=1.13.3 in /home/mitesh/miniconda3/envs/vllm_py312/lib/python3.12/site-packages (from torch==2.7.1->vllm) (1.14.0)\n",
      "Requirement already satisfied: networkx in /home/mitesh/miniconda3/envs/vllm_py312/lib/python3.12/site-packages (from torch==2.7.1->vllm) (3.4.2)\n",
      "Requirement already satisfied: jinja2 in /home/mitesh/miniconda3/envs/vllm_py312/lib/python3.12/site-packages (from torch==2.7.1->vllm) (3.1.6)\n",
      "Requirement already satisfied: fsspec in /home/mitesh/miniconda3/envs/vllm_py312/lib/python3.12/site-packages (from torch==2.7.1->vllm) (2025.3.2)\n",
      "Requirement already satisfied: nvidia-cuda-nvrtc-cu12==12.6.77 in /home/mitesh/miniconda3/envs/vllm_py312/lib/python3.12/site-packages (from torch==2.7.1->vllm) (12.6.77)\n",
      "Requirement already satisfied: nvidia-cuda-runtime-cu12==12.6.77 in /home/mitesh/miniconda3/envs/vllm_py312/lib/python3.12/site-packages (from torch==2.7.1->vllm) (12.6.77)\n",
      "Requirement already satisfied: nvidia-cuda-cupti-cu12==12.6.80 in /home/mitesh/miniconda3/envs/vllm_py312/lib/python3.12/site-packages (from torch==2.7.1->vllm) (12.6.80)\n",
      "Requirement already satisfied: nvidia-cudnn-cu12==9.5.1.17 in /home/mitesh/miniconda3/envs/vllm_py312/lib/python3.12/site-packages (from torch==2.7.1->vllm) (9.5.1.17)\n",
      "Requirement already satisfied: nvidia-cublas-cu12==12.6.4.1 in /home/mitesh/miniconda3/envs/vllm_py312/lib/python3.12/site-packages (from torch==2.7.1->vllm) (12.6.4.1)\n",
      "Requirement already satisfied: nvidia-cufft-cu12==11.3.0.4 in /home/mitesh/miniconda3/envs/vllm_py312/lib/python3.12/site-packages (from torch==2.7.1->vllm) (11.3.0.4)\n",
      "Requirement already satisfied: nvidia-curand-cu12==10.3.7.77 in /home/mitesh/miniconda3/envs/vllm_py312/lib/python3.12/site-packages (from torch==2.7.1->vllm) (10.3.7.77)\n",
      "Requirement already satisfied: nvidia-cusolver-cu12==11.7.1.2 in /home/mitesh/miniconda3/envs/vllm_py312/lib/python3.12/site-packages (from torch==2.7.1->vllm) (11.7.1.2)\n",
      "Requirement already satisfied: nvidia-cusparse-cu12==12.5.4.2 in /home/mitesh/miniconda3/envs/vllm_py312/lib/python3.12/site-packages (from torch==2.7.1->vllm) (12.5.4.2)\n",
      "Requirement already satisfied: nvidia-cusparselt-cu12==0.6.3 in /home/mitesh/miniconda3/envs/vllm_py312/lib/python3.12/site-packages (from torch==2.7.1->vllm) (0.6.3)\n",
      "Requirement already satisfied: nvidia-nccl-cu12==2.26.2 in /home/mitesh/miniconda3/envs/vllm_py312/lib/python3.12/site-packages (from torch==2.7.1->vllm) (2.26.2)\n",
      "Requirement already satisfied: nvidia-nvtx-cu12==12.6.77 in /home/mitesh/miniconda3/envs/vllm_py312/lib/python3.12/site-packages (from torch==2.7.1->vllm) (12.6.77)\n",
      "Requirement already satisfied: nvidia-nvjitlink-cu12==12.6.85 in /home/mitesh/miniconda3/envs/vllm_py312/lib/python3.12/site-packages (from torch==2.7.1->vllm) (12.6.85)\n",
      "Requirement already satisfied: nvidia-cufile-cu12==1.11.1.6 in /home/mitesh/miniconda3/envs/vllm_py312/lib/python3.12/site-packages (from torch==2.7.1->vllm) (1.11.1.6)\n",
      "Requirement already satisfied: triton==3.3.1 in /home/mitesh/miniconda3/envs/vllm_py312/lib/python3.12/site-packages (from torch==2.7.1->vllm) (3.3.1)\n",
      "Requirement already satisfied: interegular>=0.3.2 in /home/mitesh/miniconda3/envs/vllm_py312/lib/python3.12/site-packages (from lm-format-enforcer<0.11,>=0.10.11->vllm) (0.3.3)\n",
      "Requirement already satisfied: packaging in /home/mitesh/miniconda3/envs/vllm_py312/lib/python3.12/site-packages (from lm-format-enforcer<0.11,>=0.10.11->vllm) (25.0)\n",
      "Requirement already satisfied: starlette<0.47.0,>=0.40.0 in /home/mitesh/miniconda3/envs/vllm_py312/lib/python3.12/site-packages (from fastapi>=0.115.0->fastapi[standard]>=0.115.0->vllm) (0.46.2)\n",
      "Requirement already satisfied: annotated-types>=0.6.0 in /home/mitesh/miniconda3/envs/vllm_py312/lib/python3.12/site-packages (from pydantic>=2.10->vllm) (0.7.0)\n",
      "Requirement already satisfied: pydantic-core==2.33.2 in /home/mitesh/miniconda3/envs/vllm_py312/lib/python3.12/site-packages (from pydantic>=2.10->vllm) (2.33.2)\n",
      "Requirement already satisfied: typing-inspection>=0.4.0 in /home/mitesh/miniconda3/envs/vllm_py312/lib/python3.12/site-packages (from pydantic>=2.10->vllm) (0.4.0)\n",
      "Requirement already satisfied: anyio<5,>=3.6.2 in /home/mitesh/miniconda3/envs/vllm_py312/lib/python3.12/site-packages (from starlette<0.47.0,>=0.40.0->fastapi>=0.115.0->fastapi[standard]>=0.115.0->vllm) (4.9.0)\n",
      "Requirement already satisfied: idna>=2.8 in /home/mitesh/miniconda3/envs/vllm_py312/lib/python3.12/site-packages (from anyio<5,>=3.6.2->starlette<0.47.0,>=0.40.0->fastapi>=0.115.0->fastapi[standard]>=0.115.0->vllm) (3.10)\n",
      "Requirement already satisfied: sniffio>=1.1 in /home/mitesh/miniconda3/envs/vllm_py312/lib/python3.12/site-packages (from anyio<5,>=3.6.2->starlette<0.47.0,>=0.40.0->fastapi>=0.115.0->fastapi[standard]>=0.115.0->vllm) (1.3.1)\n",
      "Requirement already satisfied: fastapi-cli>=0.0.5 in /home/mitesh/miniconda3/envs/vllm_py312/lib/python3.12/site-packages (from fastapi-cli[standard]>=0.0.5; extra == \"standard\"->fastapi[standard]>=0.115.0->vllm) (0.0.7)\n",
      "Requirement already satisfied: httpx>=0.23.0 in /home/mitesh/miniconda3/envs/vllm_py312/lib/python3.12/site-packages (from fastapi[standard]>=0.115.0->vllm) (0.28.1)\n",
      "Requirement already satisfied: python-multipart>=0.0.18 in /home/mitesh/miniconda3/envs/vllm_py312/lib/python3.12/site-packages (from fastapi[standard]>=0.115.0->vllm) (0.0.20)\n",
      "Requirement already satisfied: email-validator>=2.0.0 in /home/mitesh/miniconda3/envs/vllm_py312/lib/python3.12/site-packages (from fastapi[standard]>=0.115.0->vllm) (2.2.0)\n",
      "Requirement already satisfied: uvicorn>=0.12.0 in /home/mitesh/miniconda3/envs/vllm_py312/lib/python3.12/site-packages (from uvicorn[standard]>=0.12.0; extra == \"standard\"->fastapi[standard]>=0.115.0->vllm) (0.34.2)\n",
      "Requirement already satisfied: dnspython>=2.0.0 in /home/mitesh/miniconda3/envs/vllm_py312/lib/python3.12/site-packages (from email-validator>=2.0.0->fastapi[standard]>=0.115.0->vllm) (2.7.0)\n",
      "Requirement already satisfied: typer>=0.12.3 in /home/mitesh/miniconda3/envs/vllm_py312/lib/python3.12/site-packages (from fastapi-cli>=0.0.5->fastapi-cli[standard]>=0.0.5; extra == \"standard\"->fastapi[standard]>=0.115.0->vllm) (0.15.3)\n",
      "Requirement already satisfied: rich-toolkit>=0.11.1 in /home/mitesh/miniconda3/envs/vllm_py312/lib/python3.12/site-packages (from fastapi-cli>=0.0.5->fastapi-cli[standard]>=0.0.5; extra == \"standard\"->fastapi[standard]>=0.115.0->vllm) (0.14.4)\n",
      "Requirement already satisfied: certifi in /home/mitesh/miniconda3/envs/vllm_py312/lib/python3.12/site-packages (from httpx>=0.23.0->fastapi[standard]>=0.115.0->vllm) (2025.4.26)\n",
      "Requirement already satisfied: httpcore==1.* in /home/mitesh/miniconda3/envs/vllm_py312/lib/python3.12/site-packages (from httpx>=0.23.0->fastapi[standard]>=0.115.0->vllm) (1.0.9)\n",
      "Requirement already satisfied: h11>=0.16 in /home/mitesh/miniconda3/envs/vllm_py312/lib/python3.12/site-packages (from httpcore==1.*->httpx>=0.23.0->fastapi[standard]>=0.115.0->vllm) (0.16.0)\n",
      "Requirement already satisfied: MarkupSafe>=2.0 in /home/mitesh/miniconda3/envs/vllm_py312/lib/python3.12/site-packages (from jinja2->torch==2.7.1->vllm) (3.0.2)\n",
      "Requirement already satisfied: jsonschema>=4.21.1 in /home/mitesh/miniconda3/envs/vllm_py312/lib/python3.12/site-packages (from mistral_common>=1.8.2->mistral_common[audio,image]>=1.8.2->vllm) (4.23.0)\n",
      "Requirement already satisfied: pydantic-extra-types>=2.10.5 in /home/mitesh/miniconda3/envs/vllm_py312/lib/python3.12/site-packages (from pydantic-extra-types[pycountry]>=2.10.5->mistral_common>=1.8.2->mistral_common[audio,image]>=1.8.2->vllm) (2.10.5)\n",
      "Requirement already satisfied: attrs>=22.2.0 in /home/mitesh/miniconda3/envs/vllm_py312/lib/python3.12/site-packages (from jsonschema>=4.21.1->mistral_common>=1.8.2->mistral_common[audio,image]>=1.8.2->vllm) (25.3.0)\n",
      "Requirement already satisfied: jsonschema-specifications>=2023.03.6 in /home/mitesh/miniconda3/envs/vllm_py312/lib/python3.12/site-packages (from jsonschema>=4.21.1->mistral_common>=1.8.2->mistral_common[audio,image]>=1.8.2->vllm) (2025.4.1)\n",
      "Requirement already satisfied: referencing>=0.28.4 in /home/mitesh/miniconda3/envs/vllm_py312/lib/python3.12/site-packages (from jsonschema>=4.21.1->mistral_common>=1.8.2->mistral_common[audio,image]>=1.8.2->vllm) (0.36.2)\n",
      "Requirement already satisfied: rpds-py>=0.7.1 in /home/mitesh/miniconda3/envs/vllm_py312/lib/python3.12/site-packages (from jsonschema>=4.21.1->mistral_common>=1.8.2->mistral_common[audio,image]>=1.8.2->vllm) (0.24.0)\n",
      "Requirement already satisfied: distro<2,>=1.7.0 in /home/mitesh/miniconda3/envs/vllm_py312/lib/python3.12/site-packages (from openai>=1.99.1->vllm) (1.9.0)\n",
      "Requirement already satisfied: jiter<1,>=0.4.0 in /home/mitesh/miniconda3/envs/vllm_py312/lib/python3.12/site-packages (from openai>=1.99.1->vllm) (0.9.0)\n",
      "Requirement already satisfied: pycountry>=23 in /home/mitesh/miniconda3/envs/vllm_py312/lib/python3.12/site-packages (from pydantic-extra-types[pycountry]>=2.10.5->mistral_common>=1.8.2->mistral_common[audio,image]>=1.8.2->vllm) (24.6.1)\n",
      "Requirement already satisfied: click>=7.0 in /home/mitesh/miniconda3/envs/vllm_py312/lib/python3.12/site-packages (from ray>=2.48.0->ray[cgraph]>=2.48.0->vllm) (8.1.8)\n",
      "Requirement already satisfied: msgpack<2.0.0,>=1.0.0 in /home/mitesh/miniconda3/envs/vllm_py312/lib/python3.12/site-packages (from ray>=2.48.0->ray[cgraph]>=2.48.0->vllm) (1.1.0)\n",
      "Requirement already satisfied: cupy-cuda12x in /home/mitesh/miniconda3/envs/vllm_py312/lib/python3.12/site-packages (from ray[cgraph]>=2.48.0->vllm) (13.4.1)\n",
      "Requirement already satisfied: charset-normalizer<4,>=2 in /home/mitesh/miniconda3/envs/vllm_py312/lib/python3.12/site-packages (from requests>=2.26.0->vllm) (3.4.1)\n",
      "Requirement already satisfied: urllib3<3,>=1.21.1 in /home/mitesh/miniconda3/envs/vllm_py312/lib/python3.12/site-packages (from requests>=2.26.0->vllm) (2.4.0)\n",
      "Requirement already satisfied: rich>=13.7.1 in /home/mitesh/miniconda3/envs/vllm_py312/lib/python3.12/site-packages (from rich-toolkit>=0.11.1->fastapi-cli>=0.0.5->fastapi-cli[standard]>=0.0.5; extra == \"standard\"->fastapi[standard]>=0.115.0->vllm) (14.0.0)\n",
      "Requirement already satisfied: markdown-it-py>=2.2.0 in /home/mitesh/miniconda3/envs/vllm_py312/lib/python3.12/site-packages (from rich>=13.7.1->rich-toolkit>=0.11.1->fastapi-cli>=0.0.5->fastapi-cli[standard]>=0.0.5; extra == \"standard\"->fastapi[standard]>=0.115.0->vllm) (3.0.0)\n",
      "Requirement already satisfied: pygments<3.0.0,>=2.13.0 in /home/mitesh/miniconda3/envs/vllm_py312/lib/python3.12/site-packages (from rich>=13.7.1->rich-toolkit>=0.11.1->fastapi-cli>=0.0.5->fastapi-cli[standard]>=0.0.5; extra == \"standard\"->fastapi[standard]>=0.115.0->vllm) (2.19.2)\n",
      "Requirement already satisfied: mdurl~=0.1 in /home/mitesh/miniconda3/envs/vllm_py312/lib/python3.12/site-packages (from markdown-it-py>=2.2.0->rich>=13.7.1->rich-toolkit>=0.11.1->fastapi-cli>=0.0.5->fastapi-cli[standard]>=0.0.5; extra == \"standard\"->fastapi[standard]>=0.115.0->vllm) (0.1.2)\n",
      "Requirement already satisfied: mpmath<1.4,>=1.1.0 in /home/mitesh/miniconda3/envs/vllm_py312/lib/python3.12/site-packages (from sympy>=1.13.3->torch==2.7.1->vllm) (1.3.0)\n",
      "Requirement already satisfied: huggingface-hub<1.0,>=0.16.4 in /home/mitesh/miniconda3/envs/vllm_py312/lib/python3.12/site-packages (from tokenizers>=0.21.1->vllm) (0.34.3)\n",
      "Requirement already satisfied: hf-xet<2.0.0,>=1.1.3 in /home/mitesh/miniconda3/envs/vllm_py312/lib/python3.12/site-packages (from huggingface-hub<1.0,>=0.16.4->tokenizers>=0.21.1->vllm) (1.1.5)\n",
      "Requirement already satisfied: safetensors>=0.4.3 in /home/mitesh/miniconda3/envs/vllm_py312/lib/python3.12/site-packages (from transformers>=4.55.0->vllm) (0.5.3)\n",
      "Requirement already satisfied: shellingham>=1.3.0 in /home/mitesh/miniconda3/envs/vllm_py312/lib/python3.12/site-packages (from typer>=0.12.3->fastapi-cli>=0.0.5->fastapi-cli[standard]>=0.0.5; extra == \"standard\"->fastapi[standard]>=0.115.0->vllm) (1.5.4)\n",
      "Requirement already satisfied: httptools>=0.6.3 in /home/mitesh/miniconda3/envs/vllm_py312/lib/python3.12/site-packages (from uvicorn[standard]>=0.12.0; extra == \"standard\"->fastapi[standard]>=0.115.0->vllm) (0.6.4)\n",
      "Requirement already satisfied: python-dotenv>=0.13 in /home/mitesh/miniconda3/envs/vllm_py312/lib/python3.12/site-packages (from uvicorn[standard]>=0.12.0; extra == \"standard\"->fastapi[standard]>=0.115.0->vllm) (1.1.0)\n",
      "Requirement already satisfied: uvloop!=0.15.0,!=0.15.1,>=0.14.0 in /home/mitesh/miniconda3/envs/vllm_py312/lib/python3.12/site-packages (from uvicorn[standard]>=0.12.0; extra == \"standard\"->fastapi[standard]>=0.115.0->vllm) (0.21.0)\n",
      "Requirement already satisfied: websockets>=10.4 in /home/mitesh/miniconda3/envs/vllm_py312/lib/python3.12/site-packages (from uvicorn[standard]>=0.12.0; extra == \"standard\"->fastapi[standard]>=0.115.0->vllm) (15.0.1)\n",
      "Requirement already satisfied: aiohappyeyeballs>=2.3.0 in /home/mitesh/miniconda3/envs/vllm_py312/lib/python3.12/site-packages (from aiohttp->vllm) (2.6.1)\n",
      "Requirement already satisfied: aiosignal>=1.1.2 in /home/mitesh/miniconda3/envs/vllm_py312/lib/python3.12/site-packages (from aiohttp->vllm) (1.3.2)\n",
      "Requirement already satisfied: frozenlist>=1.1.1 in /home/mitesh/miniconda3/envs/vllm_py312/lib/python3.12/site-packages (from aiohttp->vllm) (1.6.0)\n",
      "Requirement already satisfied: multidict<7.0,>=4.5 in /home/mitesh/miniconda3/envs/vllm_py312/lib/python3.12/site-packages (from aiohttp->vllm) (6.4.3)\n",
      "Requirement already satisfied: propcache>=0.2.0 in /home/mitesh/miniconda3/envs/vllm_py312/lib/python3.12/site-packages (from aiohttp->vllm) (0.3.1)\n",
      "Requirement already satisfied: yarl<2.0,>=1.17.0 in /home/mitesh/miniconda3/envs/vllm_py312/lib/python3.12/site-packages (from aiohttp->vllm) (1.20.0)\n",
      "Requirement already satisfied: fastrlock>=0.5 in /home/mitesh/miniconda3/envs/vllm_py312/lib/python3.12/site-packages (from cupy-cuda12x->ray[cgraph]>=2.48.0->vllm) (0.8.3)\n",
      "Requirement already satisfied: soundfile>=0.12.1 in /home/mitesh/miniconda3/envs/vllm_py312/lib/python3.12/site-packages (from mistral_common>=1.8.2->mistral_common[audio,image]>=1.8.2->vllm) (0.13.1)\n",
      "Requirement already satisfied: cffi>=1.0 in /home/mitesh/miniconda3/envs/vllm_py312/lib/python3.12/site-packages (from soundfile>=0.12.1->mistral_common>=1.8.2->mistral_common[audio,image]>=1.8.2->vllm) (1.17.1)\n",
      "Requirement already satisfied: pycparser in /home/mitesh/miniconda3/envs/vllm_py312/lib/python3.12/site-packages (from cffi>=1.0->soundfile>=0.12.1->mistral_common>=1.8.2->mistral_common[audio,image]>=1.8.2->vllm) (2.22)\n",
      "Requirement already satisfied: soxr>=0.5.0 in /home/mitesh/miniconda3/envs/vllm_py312/lib/python3.12/site-packages (from mistral_common>=1.8.2->mistral_common[audio,image]>=1.8.2->vllm) (0.5.0.post1)\n",
      "Note: you may need to restart the kernel to use updated packages.\n"
     ]
    }
   ],
   "source": [
    "# Install vLLM via pip\n",
    "%pip install vllm --extra-index-url https://wheels.vllm.ai/nightly"
   ]
  },
  {
   "cell_type": "code",
   "execution_count": 17,
   "metadata": {},
   "outputs": [
    {
     "name": "stdout",
     "output_type": "stream",
     "text": [
      "Python: 3.12.9\n",
      "PyTorch: 2.7.1+cu126\n",
      "CUDA available: True\n",
      "Num GPUs: 2\n",
      "GPU[0]: NVIDIA RTX A6000 | SM count: 84 | Mem: 51.03 GB\n",
      "GPU[1]: NVIDIA RTX A6000 | SM count: 84 | Mem: 51.01 GB\n"
     ]
    }
   ],
   "source": [
    "# GPU environment check\n",
    "import torch\n",
    "import platform\n",
    "\n",
    "print(f\"Python: {platform.python_version()}\")\n",
    "print(f\"PyTorch: {torch.__version__}\")\n",
    "print(f\"CUDA available: {torch.cuda.is_available()}\")\n",
    "print(f\"Num GPUs: {torch.cuda.device_count()}\")\n",
    "\n",
    "if torch.cuda.is_available():\n",
    "    for i in range(torch.cuda.device_count()):\n",
    "        props = torch.cuda.get_device_properties(i)\n",
    "        print(f\"GPU[{i}]: {props.name} | SM count: {props.multi_processor_count} | Mem: {props.total_memory / 1e9:.2f} GB\")"
   ]
  },
  {
   "cell_type": "markdown",
   "metadata": {},
   "source": [
    "## Launch Model with Multi-GPU setup\n",
    "\n",
    "There are multiple ways to load the model. \n",
    "- Activating a server using vllm serve\n",
    "- vLLM python client"
   ]
  },
  {
   "cell_type": "markdown",
   "metadata": {},
   "source": [
    "For `vllm serve` You can run the below command from command line or use subprocess to run it from cell. \n",
    "`vllm serve Qwen/Qwen3-Next-80B-A3B-Instruct \\`\n",
    "  `--tensor-parallel-size 4 \\`\n",
    "  `--served-model-name qwen3-next `\n",
    "\n",
    "We will running it from the cell and hence will be wrapping it with subprocess"
   ]
  },
  {
   "cell_type": "code",
   "execution_count": null,
   "metadata": {},
   "outputs": [
    {
     "data": {
      "text/plain": [
       "<Popen: returncode: None args: ['vllm', 'serve', 'Qwen/Qwen3-Next-80B-A3B-In...>"
      ]
     },
     "execution_count": 18,
     "metadata": {},
     "output_type": "execute_result"
    },
    {
     "name": "stdout",
     "output_type": "stream",
     "text": [
      "INFO 09-18 20:20:02 [__init__.py:241] Automatically detected platform cuda.\n",
      "\u001b[1;36m(APIServer pid=901658)\u001b[0;0m INFO 09-18 20:20:04 [api_server.py:1805] vLLM API server version 0.10.1.1\n",
      "\u001b[1;36m(APIServer pid=901658)\u001b[0;0m INFO 09-18 20:20:04 [utils.py:326] non-default args: {'model_tag': 'Qwen/Qwen3-Next-80B-A3B-Instruct', 'model': 'Qwen/Qwen3-Next-80B-A3B-Instruct', 'served_model_name': ['qwen3-next'], 'tensor_parallel_size': 4}\n"
     ]
    },
    {
     "name": "stderr",
     "output_type": "stream",
     "text": [
      "\u001b[1;36m(APIServer pid=901658)\u001b[0;0m Traceback (most recent call last):\n",
      "\u001b[1;36m(APIServer pid=901658)\u001b[0;0m   File \"/home/mitesh/miniconda3/envs/vllm_py312/bin/vllm\", line 8, in <module>\n",
      "\u001b[1;36m(APIServer pid=901658)\u001b[0;0m     sys.exit(main())\n",
      "\u001b[1;36m(APIServer pid=901658)\u001b[0;0m              ^^^^^^\n",
      "\u001b[1;36m(APIServer pid=901658)\u001b[0;0m   File \"/home/mitesh/miniconda3/envs/vllm_py312/lib/python3.12/site-packages/vllm/entrypoints/cli/main.py\", line 54, in main\n",
      "\u001b[1;36m(APIServer pid=901658)\u001b[0;0m     args.dispatch_function(args)\n",
      "\u001b[1;36m(APIServer pid=901658)\u001b[0;0m   File \"/home/mitesh/miniconda3/envs/vllm_py312/lib/python3.12/site-packages/vllm/entrypoints/cli/serve.py\", line 50, in cmd\n",
      "\u001b[1;36m(APIServer pid=901658)\u001b[0;0m     uvloop.run(run_server(args))\n",
      "\u001b[1;36m(APIServer pid=901658)\u001b[0;0m   File \"/home/mitesh/miniconda3/envs/vllm_py312/lib/python3.12/site-packages/uvloop/__init__.py\", line 109, in run\n",
      "\u001b[1;36m(APIServer pid=901658)\u001b[0;0m     return __asyncio.run(\n",
      "\u001b[1;36m(APIServer pid=901658)\u001b[0;0m            ^^^^^^^^^^^^^^\n",
      "\u001b[1;36m(APIServer pid=901658)\u001b[0;0m   File \"/home/mitesh/miniconda3/envs/vllm_py312/lib/python3.12/asyncio/runners.py\", line 195, in run\n",
      "\u001b[1;36m(APIServer pid=901658)\u001b[0;0m     return runner.run(main)\n",
      "\u001b[1;36m(APIServer pid=901658)\u001b[0;0m            ^^^^^^^^^^^^^^^^\n",
      "\u001b[1;36m(APIServer pid=901658)\u001b[0;0m   File \"/home/mitesh/miniconda3/envs/vllm_py312/lib/python3.12/asyncio/runners.py\", line 118, in run\n",
      "\u001b[1;36m(APIServer pid=901658)\u001b[0;0m     return self._loop.run_until_complete(task)\n",
      "\u001b[1;36m(APIServer pid=901658)\u001b[0;0m            ^^^^^^^^^^^^^^^^^^^^^^^^^^^^^^^^^^^\n",
      "\u001b[1;36m(APIServer pid=901658)\u001b[0;0m   File \"uvloop/loop.pyx\", line 1518, in uvloop.loop.Loop.run_until_complete\n",
      "\u001b[1;36m(APIServer pid=901658)\u001b[0;0m   File \"/home/mitesh/miniconda3/envs/vllm_py312/lib/python3.12/site-packages/uvloop/__init__.py\", line 61, in wrapper\n",
      "\u001b[1;36m(APIServer pid=901658)\u001b[0;0m     return await main\n",
      "\u001b[1;36m(APIServer pid=901658)\u001b[0;0m            ^^^^^^^^^^\n",
      "\u001b[1;36m(APIServer pid=901658)\u001b[0;0m   File \"/home/mitesh/miniconda3/envs/vllm_py312/lib/python3.12/site-packages/vllm/entrypoints/openai/api_server.py\", line 1850, in run_server\n",
      "\u001b[1;36m(APIServer pid=901658)\u001b[0;0m     await run_server_worker(listen_address, sock, args, **uvicorn_kwargs)\n",
      "\u001b[1;36m(APIServer pid=901658)\u001b[0;0m   File \"/home/mitesh/miniconda3/envs/vllm_py312/lib/python3.12/site-packages/vllm/entrypoints/openai/api_server.py\", line 1870, in run_server_worker\n",
      "\u001b[1;36m(APIServer pid=901658)\u001b[0;0m     async with build_async_engine_client(\n",
      "\u001b[1;36m(APIServer pid=901658)\u001b[0;0m                ^^^^^^^^^^^^^^^^^^^^^^^^^^\n",
      "\u001b[1;36m(APIServer pid=901658)\u001b[0;0m   File \"/home/mitesh/miniconda3/envs/vllm_py312/lib/python3.12/contextlib.py\", line 210, in __aenter__\n",
      "\u001b[1;36m(APIServer pid=901658)\u001b[0;0m     return await anext(self.gen)\n",
      "\u001b[1;36m(APIServer pid=901658)\u001b[0;0m            ^^^^^^^^^^^^^^^^^^^^^\n",
      "\u001b[1;36m(APIServer pid=901658)\u001b[0;0m   File \"/home/mitesh/miniconda3/envs/vllm_py312/lib/python3.12/site-packages/vllm/entrypoints/openai/api_server.py\", line 178, in build_async_engine_client\n",
      "\u001b[1;36m(APIServer pid=901658)\u001b[0;0m     async with build_async_engine_client_from_engine_args(\n",
      "\u001b[1;36m(APIServer pid=901658)\u001b[0;0m                ^^^^^^^^^^^^^^^^^^^^^^^^^^^^^^^^^^^^^^^^^^^\n",
      "\u001b[1;36m(APIServer pid=901658)\u001b[0;0m   File \"/home/mitesh/miniconda3/envs/vllm_py312/lib/python3.12/contextlib.py\", line 210, in __aenter__\n",
      "\u001b[1;36m(APIServer pid=901658)\u001b[0;0m     return await anext(self.gen)\n",
      "\u001b[1;36m(APIServer pid=901658)\u001b[0;0m            ^^^^^^^^^^^^^^^^^^^^^\n",
      "\u001b[1;36m(APIServer pid=901658)\u001b[0;0m   File \"/home/mitesh/miniconda3/envs/vllm_py312/lib/python3.12/site-packages/vllm/entrypoints/openai/api_server.py\", line 204, in build_async_engine_client_from_engine_args\n",
      "\u001b[1;36m(APIServer pid=901658)\u001b[0;0m     vllm_config = engine_args.create_engine_config(usage_context=usage_context)\n",
      "\u001b[1;36m(APIServer pid=901658)\u001b[0;0m                   ^^^^^^^^^^^^^^^^^^^^^^^^^^^^^^^^^^^^^^^^^^^^^^^^^^^^^^^^^^^^^\n",
      "\u001b[1;36m(APIServer pid=901658)\u001b[0;0m   File \"/home/mitesh/miniconda3/envs/vllm_py312/lib/python3.12/site-packages/vllm/engine/arg_utils.py\", line 1057, in create_engine_config\n",
      "\u001b[1;36m(APIServer pid=901658)\u001b[0;0m     model_config = self.create_model_config()\n",
      "\u001b[1;36m(APIServer pid=901658)\u001b[0;0m                    ^^^^^^^^^^^^^^^^^^^^^^^^^^\n",
      "\u001b[1;36m(APIServer pid=901658)\u001b[0;0m   File \"/home/mitesh/miniconda3/envs/vllm_py312/lib/python3.12/site-packages/vllm/engine/arg_utils.py\", line 904, in create_model_config\n",
      "\u001b[1;36m(APIServer pid=901658)\u001b[0;0m     return ModelConfig(\n",
      "\u001b[1;36m(APIServer pid=901658)\u001b[0;0m            ^^^^^^^^^^^^\n",
      "\u001b[1;36m(APIServer pid=901658)\u001b[0;0m   File \"/home/mitesh/miniconda3/envs/vllm_py312/lib/python3.12/site-packages/pydantic/_internal/_dataclasses.py\", line 123, in __init__\n",
      "\u001b[1;36m(APIServer pid=901658)\u001b[0;0m     s.__pydantic_validator__.validate_python(ArgsKwargs(args, kwargs), self_instance=s)\n",
      "\u001b[1;36m(APIServer pid=901658)\u001b[0;0m pydantic_core._pydantic_core.ValidationError: 1 validation error for ModelConfig\n",
      "\u001b[1;36m(APIServer pid=901658)\u001b[0;0m   Value error, The checkpoint you are trying to load has model type `qwen3_next` but Transformers does not recognize this architecture. This could be because of an issue with the checkpoint, or because your version of Transformers is out of date.\n",
      "\u001b[1;36m(APIServer pid=901658)\u001b[0;0m \n",
      "\u001b[1;36m(APIServer pid=901658)\u001b[0;0m You can update Transformers with the command `pip install --upgrade transformers`. If this does not work, and the checkpoint is very new, then there may not be a release version that supports this model yet. In this case, you can get the most up-to-date code by installing Transformers from source with the command `pip install git+https://github.com/huggingface/transformers.git` [type=value_error, input_value=ArgsKwargs((), {'model': ...gits_processors': None}), input_type=ArgsKwargs]\n",
      "\u001b[1;36m(APIServer pid=901658)\u001b[0;0m     For further information visit https://errors.pydantic.dev/2.11/v/value_error\n"
     ]
    }
   ],
   "source": [
    "import subprocess\n",
    "\n",
    "cmd = [\n",
    "    \"vllm\", \"serve\", \"Qwen/Qwen3-Next-80B-A3B-Instruct\",\n",
    "    \"--tensor-parallel-size\", \"4\",\n",
    "    \"--served-model-name\", \"qwen3-next\"\n",
    "]\n",
    "subprocess.Popen(cmd)"
   ]
  },
  {
   "cell_type": "markdown",
   "metadata": {},
   "source": [
    "## Inferencing using vllm server"
   ]
  },
  {
   "cell_type": "markdown",
   "metadata": {},
   "source": [
    "### Inference using vllm server"
   ]
  },
  {
   "cell_type": "code",
   "execution_count": 14,
   "metadata": {},
   "outputs": [],
   "source": [
    "import requests\n",
    "\n",
    "def inference(user_prompt):\n",
    "    url = \"http://localhost:8000/v1/chat/completions\"\n",
    "    headers = {\"Content-Type\": \"application/json\"}\n",
    "    data = {\n",
    "        \"model\": \"qwen3-next\",\n",
    "        \"messages\": [\n",
    "            {\"role\": \"user\", \"content\": user_prompt}\n",
    "        ]\n",
    "    }\n",
    "    response = requests.post(url, headers=headers, json=data)\n",
    "    return response.json()"
   ]
  },
  {
   "cell_type": "code",
   "execution_count": 15,
   "metadata": {},
   "outputs": [
    {
     "ename": "ConnectionError",
     "evalue": "HTTPConnectionPool(host='localhost', port=8000): Max retries exceeded with url: /v1/chat/completions (Caused by NewConnectionError('<urllib3.connection.HTTPConnection object at 0x72f7a880a720>: Failed to establish a new connection: [Errno 111] Connection refused'))",
     "output_type": "error",
     "traceback": [
      "\u001b[31m---------------------------------------------------------------------------\u001b[39m",
      "\u001b[31mConnectionRefusedError\u001b[39m                    Traceback (most recent call last)",
      "\u001b[36mFile \u001b[39m\u001b[32m~/miniconda3/envs/vllm_py312/lib/python3.12/site-packages/urllib3/connection.py:198\u001b[39m, in \u001b[36mHTTPConnection._new_conn\u001b[39m\u001b[34m(self)\u001b[39m\n\u001b[32m    197\u001b[39m \u001b[38;5;28;01mtry\u001b[39;00m:\n\u001b[32m--> \u001b[39m\u001b[32m198\u001b[39m     sock = \u001b[43mconnection\u001b[49m\u001b[43m.\u001b[49m\u001b[43mcreate_connection\u001b[49m\u001b[43m(\u001b[49m\n\u001b[32m    199\u001b[39m \u001b[43m        \u001b[49m\u001b[43m(\u001b[49m\u001b[38;5;28;43mself\u001b[39;49m\u001b[43m.\u001b[49m\u001b[43m_dns_host\u001b[49m\u001b[43m,\u001b[49m\u001b[43m \u001b[49m\u001b[38;5;28;43mself\u001b[39;49m\u001b[43m.\u001b[49m\u001b[43mport\u001b[49m\u001b[43m)\u001b[49m\u001b[43m,\u001b[49m\n\u001b[32m    200\u001b[39m \u001b[43m        \u001b[49m\u001b[38;5;28;43mself\u001b[39;49m\u001b[43m.\u001b[49m\u001b[43mtimeout\u001b[49m\u001b[43m,\u001b[49m\n\u001b[32m    201\u001b[39m \u001b[43m        \u001b[49m\u001b[43msource_address\u001b[49m\u001b[43m=\u001b[49m\u001b[38;5;28;43mself\u001b[39;49m\u001b[43m.\u001b[49m\u001b[43msource_address\u001b[49m\u001b[43m,\u001b[49m\n\u001b[32m    202\u001b[39m \u001b[43m        \u001b[49m\u001b[43msocket_options\u001b[49m\u001b[43m=\u001b[49m\u001b[38;5;28;43mself\u001b[39;49m\u001b[43m.\u001b[49m\u001b[43msocket_options\u001b[49m\u001b[43m,\u001b[49m\n\u001b[32m    203\u001b[39m \u001b[43m    \u001b[49m\u001b[43m)\u001b[49m\n\u001b[32m    204\u001b[39m \u001b[38;5;28;01mexcept\u001b[39;00m socket.gaierror \u001b[38;5;28;01mas\u001b[39;00m e:\n",
      "\u001b[36mFile \u001b[39m\u001b[32m~/miniconda3/envs/vllm_py312/lib/python3.12/site-packages/urllib3/util/connection.py:85\u001b[39m, in \u001b[36mcreate_connection\u001b[39m\u001b[34m(address, timeout, source_address, socket_options)\u001b[39m\n\u001b[32m     84\u001b[39m \u001b[38;5;28;01mtry\u001b[39;00m:\n\u001b[32m---> \u001b[39m\u001b[32m85\u001b[39m     \u001b[38;5;28;01mraise\u001b[39;00m err\n\u001b[32m     86\u001b[39m \u001b[38;5;28;01mfinally\u001b[39;00m:\n\u001b[32m     87\u001b[39m     \u001b[38;5;66;03m# Break explicitly a reference cycle\u001b[39;00m\n",
      "\u001b[36mFile \u001b[39m\u001b[32m~/miniconda3/envs/vllm_py312/lib/python3.12/site-packages/urllib3/util/connection.py:73\u001b[39m, in \u001b[36mcreate_connection\u001b[39m\u001b[34m(address, timeout, source_address, socket_options)\u001b[39m\n\u001b[32m     72\u001b[39m     sock.bind(source_address)\n\u001b[32m---> \u001b[39m\u001b[32m73\u001b[39m \u001b[43msock\u001b[49m\u001b[43m.\u001b[49m\u001b[43mconnect\u001b[49m\u001b[43m(\u001b[49m\u001b[43msa\u001b[49m\u001b[43m)\u001b[49m\n\u001b[32m     74\u001b[39m \u001b[38;5;66;03m# Break explicitly a reference cycle\u001b[39;00m\n",
      "\u001b[31mConnectionRefusedError\u001b[39m: [Errno 111] Connection refused",
      "\nThe above exception was the direct cause of the following exception:\n",
      "\u001b[31mNewConnectionError\u001b[39m                        Traceback (most recent call last)",
      "\u001b[36mFile \u001b[39m\u001b[32m~/miniconda3/envs/vllm_py312/lib/python3.12/site-packages/urllib3/connectionpool.py:787\u001b[39m, in \u001b[36mHTTPConnectionPool.urlopen\u001b[39m\u001b[34m(self, method, url, body, headers, retries, redirect, assert_same_host, timeout, pool_timeout, release_conn, chunked, body_pos, preload_content, decode_content, **response_kw)\u001b[39m\n\u001b[32m    786\u001b[39m \u001b[38;5;66;03m# Make the request on the HTTPConnection object\u001b[39;00m\n\u001b[32m--> \u001b[39m\u001b[32m787\u001b[39m response = \u001b[38;5;28;43mself\u001b[39;49m\u001b[43m.\u001b[49m\u001b[43m_make_request\u001b[49m\u001b[43m(\u001b[49m\n\u001b[32m    788\u001b[39m \u001b[43m    \u001b[49m\u001b[43mconn\u001b[49m\u001b[43m,\u001b[49m\n\u001b[32m    789\u001b[39m \u001b[43m    \u001b[49m\u001b[43mmethod\u001b[49m\u001b[43m,\u001b[49m\n\u001b[32m    790\u001b[39m \u001b[43m    \u001b[49m\u001b[43murl\u001b[49m\u001b[43m,\u001b[49m\n\u001b[32m    791\u001b[39m \u001b[43m    \u001b[49m\u001b[43mtimeout\u001b[49m\u001b[43m=\u001b[49m\u001b[43mtimeout_obj\u001b[49m\u001b[43m,\u001b[49m\n\u001b[32m    792\u001b[39m \u001b[43m    \u001b[49m\u001b[43mbody\u001b[49m\u001b[43m=\u001b[49m\u001b[43mbody\u001b[49m\u001b[43m,\u001b[49m\n\u001b[32m    793\u001b[39m \u001b[43m    \u001b[49m\u001b[43mheaders\u001b[49m\u001b[43m=\u001b[49m\u001b[43mheaders\u001b[49m\u001b[43m,\u001b[49m\n\u001b[32m    794\u001b[39m \u001b[43m    \u001b[49m\u001b[43mchunked\u001b[49m\u001b[43m=\u001b[49m\u001b[43mchunked\u001b[49m\u001b[43m,\u001b[49m\n\u001b[32m    795\u001b[39m \u001b[43m    \u001b[49m\u001b[43mretries\u001b[49m\u001b[43m=\u001b[49m\u001b[43mretries\u001b[49m\u001b[43m,\u001b[49m\n\u001b[32m    796\u001b[39m \u001b[43m    \u001b[49m\u001b[43mresponse_conn\u001b[49m\u001b[43m=\u001b[49m\u001b[43mresponse_conn\u001b[49m\u001b[43m,\u001b[49m\n\u001b[32m    797\u001b[39m \u001b[43m    \u001b[49m\u001b[43mpreload_content\u001b[49m\u001b[43m=\u001b[49m\u001b[43mpreload_content\u001b[49m\u001b[43m,\u001b[49m\n\u001b[32m    798\u001b[39m \u001b[43m    \u001b[49m\u001b[43mdecode_content\u001b[49m\u001b[43m=\u001b[49m\u001b[43mdecode_content\u001b[49m\u001b[43m,\u001b[49m\n\u001b[32m    799\u001b[39m \u001b[43m    \u001b[49m\u001b[43m*\u001b[49m\u001b[43m*\u001b[49m\u001b[43mresponse_kw\u001b[49m\u001b[43m,\u001b[49m\n\u001b[32m    800\u001b[39m \u001b[43m\u001b[49m\u001b[43m)\u001b[49m\n\u001b[32m    802\u001b[39m \u001b[38;5;66;03m# Everything went great!\u001b[39;00m\n",
      "\u001b[36mFile \u001b[39m\u001b[32m~/miniconda3/envs/vllm_py312/lib/python3.12/site-packages/urllib3/connectionpool.py:493\u001b[39m, in \u001b[36mHTTPConnectionPool._make_request\u001b[39m\u001b[34m(self, conn, method, url, body, headers, retries, timeout, chunked, response_conn, preload_content, decode_content, enforce_content_length)\u001b[39m\n\u001b[32m    492\u001b[39m \u001b[38;5;28;01mtry\u001b[39;00m:\n\u001b[32m--> \u001b[39m\u001b[32m493\u001b[39m     \u001b[43mconn\u001b[49m\u001b[43m.\u001b[49m\u001b[43mrequest\u001b[49m\u001b[43m(\u001b[49m\n\u001b[32m    494\u001b[39m \u001b[43m        \u001b[49m\u001b[43mmethod\u001b[49m\u001b[43m,\u001b[49m\n\u001b[32m    495\u001b[39m \u001b[43m        \u001b[49m\u001b[43murl\u001b[49m\u001b[43m,\u001b[49m\n\u001b[32m    496\u001b[39m \u001b[43m        \u001b[49m\u001b[43mbody\u001b[49m\u001b[43m=\u001b[49m\u001b[43mbody\u001b[49m\u001b[43m,\u001b[49m\n\u001b[32m    497\u001b[39m \u001b[43m        \u001b[49m\u001b[43mheaders\u001b[49m\u001b[43m=\u001b[49m\u001b[43mheaders\u001b[49m\u001b[43m,\u001b[49m\n\u001b[32m    498\u001b[39m \u001b[43m        \u001b[49m\u001b[43mchunked\u001b[49m\u001b[43m=\u001b[49m\u001b[43mchunked\u001b[49m\u001b[43m,\u001b[49m\n\u001b[32m    499\u001b[39m \u001b[43m        \u001b[49m\u001b[43mpreload_content\u001b[49m\u001b[43m=\u001b[49m\u001b[43mpreload_content\u001b[49m\u001b[43m,\u001b[49m\n\u001b[32m    500\u001b[39m \u001b[43m        \u001b[49m\u001b[43mdecode_content\u001b[49m\u001b[43m=\u001b[49m\u001b[43mdecode_content\u001b[49m\u001b[43m,\u001b[49m\n\u001b[32m    501\u001b[39m \u001b[43m        \u001b[49m\u001b[43menforce_content_length\u001b[49m\u001b[43m=\u001b[49m\u001b[43menforce_content_length\u001b[49m\u001b[43m,\u001b[49m\n\u001b[32m    502\u001b[39m \u001b[43m    \u001b[49m\u001b[43m)\u001b[49m\n\u001b[32m    504\u001b[39m \u001b[38;5;66;03m# We are swallowing BrokenPipeError (errno.EPIPE) since the server is\u001b[39;00m\n\u001b[32m    505\u001b[39m \u001b[38;5;66;03m# legitimately able to close the connection after sending a valid response.\u001b[39;00m\n\u001b[32m    506\u001b[39m \u001b[38;5;66;03m# With this behaviour, the received response is still readable.\u001b[39;00m\n",
      "\u001b[36mFile \u001b[39m\u001b[32m~/miniconda3/envs/vllm_py312/lib/python3.12/site-packages/urllib3/connection.py:445\u001b[39m, in \u001b[36mHTTPConnection.request\u001b[39m\u001b[34m(self, method, url, body, headers, chunked, preload_content, decode_content, enforce_content_length)\u001b[39m\n\u001b[32m    444\u001b[39m     \u001b[38;5;28mself\u001b[39m.putheader(header, value)\n\u001b[32m--> \u001b[39m\u001b[32m445\u001b[39m \u001b[38;5;28;43mself\u001b[39;49m\u001b[43m.\u001b[49m\u001b[43mendheaders\u001b[49m\u001b[43m(\u001b[49m\u001b[43m)\u001b[49m\n\u001b[32m    447\u001b[39m \u001b[38;5;66;03m# If we're given a body we start sending that in chunks.\u001b[39;00m\n",
      "\u001b[36mFile \u001b[39m\u001b[32m~/miniconda3/envs/vllm_py312/lib/python3.12/http/client.py:1333\u001b[39m, in \u001b[36mHTTPConnection.endheaders\u001b[39m\u001b[34m(self, message_body, encode_chunked)\u001b[39m\n\u001b[32m   1332\u001b[39m     \u001b[38;5;28;01mraise\u001b[39;00m CannotSendHeader()\n\u001b[32m-> \u001b[39m\u001b[32m1333\u001b[39m \u001b[38;5;28;43mself\u001b[39;49m\u001b[43m.\u001b[49m\u001b[43m_send_output\u001b[49m\u001b[43m(\u001b[49m\u001b[43mmessage_body\u001b[49m\u001b[43m,\u001b[49m\u001b[43m \u001b[49m\u001b[43mencode_chunked\u001b[49m\u001b[43m=\u001b[49m\u001b[43mencode_chunked\u001b[49m\u001b[43m)\u001b[49m\n",
      "\u001b[36mFile \u001b[39m\u001b[32m~/miniconda3/envs/vllm_py312/lib/python3.12/http/client.py:1093\u001b[39m, in \u001b[36mHTTPConnection._send_output\u001b[39m\u001b[34m(self, message_body, encode_chunked)\u001b[39m\n\u001b[32m   1092\u001b[39m \u001b[38;5;28;01mdel\u001b[39;00m \u001b[38;5;28mself\u001b[39m._buffer[:]\n\u001b[32m-> \u001b[39m\u001b[32m1093\u001b[39m \u001b[38;5;28;43mself\u001b[39;49m\u001b[43m.\u001b[49m\u001b[43msend\u001b[49m\u001b[43m(\u001b[49m\u001b[43mmsg\u001b[49m\u001b[43m)\u001b[49m\n\u001b[32m   1095\u001b[39m \u001b[38;5;28;01mif\u001b[39;00m message_body \u001b[38;5;129;01mis\u001b[39;00m \u001b[38;5;129;01mnot\u001b[39;00m \u001b[38;5;28;01mNone\u001b[39;00m:\n\u001b[32m   1096\u001b[39m \n\u001b[32m   1097\u001b[39m     \u001b[38;5;66;03m# create a consistent interface to message_body\u001b[39;00m\n",
      "\u001b[36mFile \u001b[39m\u001b[32m~/miniconda3/envs/vllm_py312/lib/python3.12/http/client.py:1037\u001b[39m, in \u001b[36mHTTPConnection.send\u001b[39m\u001b[34m(self, data)\u001b[39m\n\u001b[32m   1036\u001b[39m \u001b[38;5;28;01mif\u001b[39;00m \u001b[38;5;28mself\u001b[39m.auto_open:\n\u001b[32m-> \u001b[39m\u001b[32m1037\u001b[39m     \u001b[38;5;28;43mself\u001b[39;49m\u001b[43m.\u001b[49m\u001b[43mconnect\u001b[49m\u001b[43m(\u001b[49m\u001b[43m)\u001b[49m\n\u001b[32m   1038\u001b[39m \u001b[38;5;28;01melse\u001b[39;00m:\n",
      "\u001b[36mFile \u001b[39m\u001b[32m~/miniconda3/envs/vllm_py312/lib/python3.12/site-packages/urllib3/connection.py:276\u001b[39m, in \u001b[36mHTTPConnection.connect\u001b[39m\u001b[34m(self)\u001b[39m\n\u001b[32m    275\u001b[39m \u001b[38;5;28;01mdef\u001b[39;00m\u001b[38;5;250m \u001b[39m\u001b[34mconnect\u001b[39m(\u001b[38;5;28mself\u001b[39m) -> \u001b[38;5;28;01mNone\u001b[39;00m:\n\u001b[32m--> \u001b[39m\u001b[32m276\u001b[39m     \u001b[38;5;28mself\u001b[39m.sock = \u001b[38;5;28;43mself\u001b[39;49m\u001b[43m.\u001b[49m\u001b[43m_new_conn\u001b[49m\u001b[43m(\u001b[49m\u001b[43m)\u001b[49m\n\u001b[32m    277\u001b[39m     \u001b[38;5;28;01mif\u001b[39;00m \u001b[38;5;28mself\u001b[39m._tunnel_host:\n\u001b[32m    278\u001b[39m         \u001b[38;5;66;03m# If we're tunneling it means we're connected to our proxy.\u001b[39;00m\n",
      "\u001b[36mFile \u001b[39m\u001b[32m~/miniconda3/envs/vllm_py312/lib/python3.12/site-packages/urllib3/connection.py:213\u001b[39m, in \u001b[36mHTTPConnection._new_conn\u001b[39m\u001b[34m(self)\u001b[39m\n\u001b[32m    212\u001b[39m \u001b[38;5;28;01mexcept\u001b[39;00m \u001b[38;5;167;01mOSError\u001b[39;00m \u001b[38;5;28;01mas\u001b[39;00m e:\n\u001b[32m--> \u001b[39m\u001b[32m213\u001b[39m     \u001b[38;5;28;01mraise\u001b[39;00m NewConnectionError(\n\u001b[32m    214\u001b[39m         \u001b[38;5;28mself\u001b[39m, \u001b[33mf\u001b[39m\u001b[33m\"\u001b[39m\u001b[33mFailed to establish a new connection: \u001b[39m\u001b[38;5;132;01m{\u001b[39;00me\u001b[38;5;132;01m}\u001b[39;00m\u001b[33m\"\u001b[39m\n\u001b[32m    215\u001b[39m     ) \u001b[38;5;28;01mfrom\u001b[39;00m\u001b[38;5;250m \u001b[39m\u001b[34;01me\u001b[39;00m\n\u001b[32m    217\u001b[39m sys.audit(\u001b[33m\"\u001b[39m\u001b[33mhttp.client.connect\u001b[39m\u001b[33m\"\u001b[39m, \u001b[38;5;28mself\u001b[39m, \u001b[38;5;28mself\u001b[39m.host, \u001b[38;5;28mself\u001b[39m.port)\n",
      "\u001b[31mNewConnectionError\u001b[39m: <urllib3.connection.HTTPConnection object at 0x72f7a880a720>: Failed to establish a new connection: [Errno 111] Connection refused",
      "\nThe above exception was the direct cause of the following exception:\n",
      "\u001b[31mMaxRetryError\u001b[39m                             Traceback (most recent call last)",
      "\u001b[36mFile \u001b[39m\u001b[32m~/miniconda3/envs/vllm_py312/lib/python3.12/site-packages/requests/adapters.py:667\u001b[39m, in \u001b[36mHTTPAdapter.send\u001b[39m\u001b[34m(self, request, stream, timeout, verify, cert, proxies)\u001b[39m\n\u001b[32m    666\u001b[39m \u001b[38;5;28;01mtry\u001b[39;00m:\n\u001b[32m--> \u001b[39m\u001b[32m667\u001b[39m     resp = \u001b[43mconn\u001b[49m\u001b[43m.\u001b[49m\u001b[43murlopen\u001b[49m\u001b[43m(\u001b[49m\n\u001b[32m    668\u001b[39m \u001b[43m        \u001b[49m\u001b[43mmethod\u001b[49m\u001b[43m=\u001b[49m\u001b[43mrequest\u001b[49m\u001b[43m.\u001b[49m\u001b[43mmethod\u001b[49m\u001b[43m,\u001b[49m\n\u001b[32m    669\u001b[39m \u001b[43m        \u001b[49m\u001b[43murl\u001b[49m\u001b[43m=\u001b[49m\u001b[43murl\u001b[49m\u001b[43m,\u001b[49m\n\u001b[32m    670\u001b[39m \u001b[43m        \u001b[49m\u001b[43mbody\u001b[49m\u001b[43m=\u001b[49m\u001b[43mrequest\u001b[49m\u001b[43m.\u001b[49m\u001b[43mbody\u001b[49m\u001b[43m,\u001b[49m\n\u001b[32m    671\u001b[39m \u001b[43m        \u001b[49m\u001b[43mheaders\u001b[49m\u001b[43m=\u001b[49m\u001b[43mrequest\u001b[49m\u001b[43m.\u001b[49m\u001b[43mheaders\u001b[49m\u001b[43m,\u001b[49m\n\u001b[32m    672\u001b[39m \u001b[43m        \u001b[49m\u001b[43mredirect\u001b[49m\u001b[43m=\u001b[49m\u001b[38;5;28;43;01mFalse\u001b[39;49;00m\u001b[43m,\u001b[49m\n\u001b[32m    673\u001b[39m \u001b[43m        \u001b[49m\u001b[43massert_same_host\u001b[49m\u001b[43m=\u001b[49m\u001b[38;5;28;43;01mFalse\u001b[39;49;00m\u001b[43m,\u001b[49m\n\u001b[32m    674\u001b[39m \u001b[43m        \u001b[49m\u001b[43mpreload_content\u001b[49m\u001b[43m=\u001b[49m\u001b[38;5;28;43;01mFalse\u001b[39;49;00m\u001b[43m,\u001b[49m\n\u001b[32m    675\u001b[39m \u001b[43m        \u001b[49m\u001b[43mdecode_content\u001b[49m\u001b[43m=\u001b[49m\u001b[38;5;28;43;01mFalse\u001b[39;49;00m\u001b[43m,\u001b[49m\n\u001b[32m    676\u001b[39m \u001b[43m        \u001b[49m\u001b[43mretries\u001b[49m\u001b[43m=\u001b[49m\u001b[38;5;28;43mself\u001b[39;49m\u001b[43m.\u001b[49m\u001b[43mmax_retries\u001b[49m\u001b[43m,\u001b[49m\n\u001b[32m    677\u001b[39m \u001b[43m        \u001b[49m\u001b[43mtimeout\u001b[49m\u001b[43m=\u001b[49m\u001b[43mtimeout\u001b[49m\u001b[43m,\u001b[49m\n\u001b[32m    678\u001b[39m \u001b[43m        \u001b[49m\u001b[43mchunked\u001b[49m\u001b[43m=\u001b[49m\u001b[43mchunked\u001b[49m\u001b[43m,\u001b[49m\n\u001b[32m    679\u001b[39m \u001b[43m    \u001b[49m\u001b[43m)\u001b[49m\n\u001b[32m    681\u001b[39m \u001b[38;5;28;01mexcept\u001b[39;00m (ProtocolError, \u001b[38;5;167;01mOSError\u001b[39;00m) \u001b[38;5;28;01mas\u001b[39;00m err:\n",
      "\u001b[36mFile \u001b[39m\u001b[32m~/miniconda3/envs/vllm_py312/lib/python3.12/site-packages/urllib3/connectionpool.py:841\u001b[39m, in \u001b[36mHTTPConnectionPool.urlopen\u001b[39m\u001b[34m(self, method, url, body, headers, retries, redirect, assert_same_host, timeout, pool_timeout, release_conn, chunked, body_pos, preload_content, decode_content, **response_kw)\u001b[39m\n\u001b[32m    839\u001b[39m     new_e = ProtocolError(\u001b[33m\"\u001b[39m\u001b[33mConnection aborted.\u001b[39m\u001b[33m\"\u001b[39m, new_e)\n\u001b[32m--> \u001b[39m\u001b[32m841\u001b[39m retries = \u001b[43mretries\u001b[49m\u001b[43m.\u001b[49m\u001b[43mincrement\u001b[49m\u001b[43m(\u001b[49m\n\u001b[32m    842\u001b[39m \u001b[43m    \u001b[49m\u001b[43mmethod\u001b[49m\u001b[43m,\u001b[49m\u001b[43m \u001b[49m\u001b[43murl\u001b[49m\u001b[43m,\u001b[49m\u001b[43m \u001b[49m\u001b[43merror\u001b[49m\u001b[43m=\u001b[49m\u001b[43mnew_e\u001b[49m\u001b[43m,\u001b[49m\u001b[43m \u001b[49m\u001b[43m_pool\u001b[49m\u001b[43m=\u001b[49m\u001b[38;5;28;43mself\u001b[39;49m\u001b[43m,\u001b[49m\u001b[43m \u001b[49m\u001b[43m_stacktrace\u001b[49m\u001b[43m=\u001b[49m\u001b[43msys\u001b[49m\u001b[43m.\u001b[49m\u001b[43mexc_info\u001b[49m\u001b[43m(\u001b[49m\u001b[43m)\u001b[49m\u001b[43m[\u001b[49m\u001b[32;43m2\u001b[39;49m\u001b[43m]\u001b[49m\n\u001b[32m    843\u001b[39m \u001b[43m\u001b[49m\u001b[43m)\u001b[49m\n\u001b[32m    844\u001b[39m retries.sleep()\n",
      "\u001b[36mFile \u001b[39m\u001b[32m~/miniconda3/envs/vllm_py312/lib/python3.12/site-packages/urllib3/util/retry.py:519\u001b[39m, in \u001b[36mRetry.increment\u001b[39m\u001b[34m(self, method, url, response, error, _pool, _stacktrace)\u001b[39m\n\u001b[32m    518\u001b[39m     reason = error \u001b[38;5;129;01mor\u001b[39;00m ResponseError(cause)\n\u001b[32m--> \u001b[39m\u001b[32m519\u001b[39m     \u001b[38;5;28;01mraise\u001b[39;00m MaxRetryError(_pool, url, reason) \u001b[38;5;28;01mfrom\u001b[39;00m\u001b[38;5;250m \u001b[39m\u001b[34;01mreason\u001b[39;00m  \u001b[38;5;66;03m# type: ignore[arg-type]\u001b[39;00m\n\u001b[32m    521\u001b[39m log.debug(\u001b[33m\"\u001b[39m\u001b[33mIncremented Retry for (url=\u001b[39m\u001b[33m'\u001b[39m\u001b[38;5;132;01m%s\u001b[39;00m\u001b[33m'\u001b[39m\u001b[33m): \u001b[39m\u001b[38;5;132;01m%r\u001b[39;00m\u001b[33m\"\u001b[39m, url, new_retry)\n",
      "\u001b[31mMaxRetryError\u001b[39m: HTTPConnectionPool(host='localhost', port=8000): Max retries exceeded with url: /v1/chat/completions (Caused by NewConnectionError('<urllib3.connection.HTTPConnection object at 0x72f7a880a720>: Failed to establish a new connection: [Errno 111] Connection refused'))",
      "\nDuring handling of the above exception, another exception occurred:\n",
      "\u001b[31mConnectionError\u001b[39m                           Traceback (most recent call last)",
      "\u001b[36mCell\u001b[39m\u001b[36m \u001b[39m\u001b[32mIn[15]\u001b[39m\u001b[32m, line 4\u001b[39m\n\u001b[32m      1\u001b[39m \u001b[38;5;66;03m# Usage example\u001b[39;00m\n\u001b[32m      3\u001b[39m user_prompt = \u001b[33m\"\u001b[39m\u001b[33m What is the capital of France and why do people travel go there? \u001b[39m\u001b[33m\"\u001b[39m\n\u001b[32m----> \u001b[39m\u001b[32m4\u001b[39m output = \u001b[43minference\u001b[49m\u001b[43m(\u001b[49m\u001b[43muser_prompt\u001b[49m\u001b[43m)\u001b[49m\n\u001b[32m      5\u001b[39m result = output[\u001b[33m'\u001b[39m\u001b[33mchoices\u001b[39m\u001b[33m'\u001b[39m][\u001b[32m0\u001b[39m][\u001b[33m'\u001b[39m\u001b[33mmessage\u001b[39m\u001b[33m'\u001b[39m][\u001b[33m'\u001b[39m\u001b[33mcontent\u001b[39m\u001b[33m'\u001b[39m]\n\u001b[32m      6\u001b[39m \u001b[38;5;28mprint\u001b[39m(result)\n",
      "\u001b[36mCell\u001b[39m\u001b[36m \u001b[39m\u001b[32mIn[14]\u001b[39m\u001b[32m, line 12\u001b[39m, in \u001b[36minference\u001b[39m\u001b[34m(user_prompt)\u001b[39m\n\u001b[32m      5\u001b[39m headers = {\u001b[33m\"\u001b[39m\u001b[33mContent-Type\u001b[39m\u001b[33m\"\u001b[39m: \u001b[33m\"\u001b[39m\u001b[33mapplication/json\u001b[39m\u001b[33m\"\u001b[39m}\n\u001b[32m      6\u001b[39m data = {\n\u001b[32m      7\u001b[39m     \u001b[33m\"\u001b[39m\u001b[33mmodel\u001b[39m\u001b[33m\"\u001b[39m: \u001b[33m\"\u001b[39m\u001b[33mqwen3-next\u001b[39m\u001b[33m\"\u001b[39m,\n\u001b[32m      8\u001b[39m     \u001b[33m\"\u001b[39m\u001b[33mmessages\u001b[39m\u001b[33m\"\u001b[39m: [\n\u001b[32m      9\u001b[39m         {\u001b[33m\"\u001b[39m\u001b[33mrole\u001b[39m\u001b[33m\"\u001b[39m: \u001b[33m\"\u001b[39m\u001b[33muser\u001b[39m\u001b[33m\"\u001b[39m, \u001b[33m\"\u001b[39m\u001b[33mcontent\u001b[39m\u001b[33m\"\u001b[39m: user_prompt}\n\u001b[32m     10\u001b[39m     ]\n\u001b[32m     11\u001b[39m }\n\u001b[32m---> \u001b[39m\u001b[32m12\u001b[39m response = \u001b[43mrequests\u001b[49m\u001b[43m.\u001b[49m\u001b[43mpost\u001b[49m\u001b[43m(\u001b[49m\u001b[43murl\u001b[49m\u001b[43m,\u001b[49m\u001b[43m \u001b[49m\u001b[43mheaders\u001b[49m\u001b[43m=\u001b[49m\u001b[43mheaders\u001b[49m\u001b[43m,\u001b[49m\u001b[43m \u001b[49m\u001b[43mjson\u001b[49m\u001b[43m=\u001b[49m\u001b[43mdata\u001b[49m\u001b[43m)\u001b[49m\n\u001b[32m     13\u001b[39m \u001b[38;5;28;01mreturn\u001b[39;00m response.json()\n",
      "\u001b[36mFile \u001b[39m\u001b[32m~/miniconda3/envs/vllm_py312/lib/python3.12/site-packages/requests/api.py:115\u001b[39m, in \u001b[36mpost\u001b[39m\u001b[34m(url, data, json, **kwargs)\u001b[39m\n\u001b[32m    103\u001b[39m \u001b[38;5;28;01mdef\u001b[39;00m\u001b[38;5;250m \u001b[39m\u001b[34mpost\u001b[39m(url, data=\u001b[38;5;28;01mNone\u001b[39;00m, json=\u001b[38;5;28;01mNone\u001b[39;00m, **kwargs):\n\u001b[32m    104\u001b[39m \u001b[38;5;250m    \u001b[39m\u001b[33mr\u001b[39m\u001b[33;03m\"\"\"Sends a POST request.\u001b[39;00m\n\u001b[32m    105\u001b[39m \n\u001b[32m    106\u001b[39m \u001b[33;03m    :param url: URL for the new :class:`Request` object.\u001b[39;00m\n\u001b[32m   (...)\u001b[39m\u001b[32m    112\u001b[39m \u001b[33;03m    :rtype: requests.Response\u001b[39;00m\n\u001b[32m    113\u001b[39m \u001b[33;03m    \"\"\"\u001b[39;00m\n\u001b[32m--> \u001b[39m\u001b[32m115\u001b[39m     \u001b[38;5;28;01mreturn\u001b[39;00m \u001b[43mrequest\u001b[49m\u001b[43m(\u001b[49m\u001b[33;43m\"\u001b[39;49m\u001b[33;43mpost\u001b[39;49m\u001b[33;43m\"\u001b[39;49m\u001b[43m,\u001b[49m\u001b[43m \u001b[49m\u001b[43murl\u001b[49m\u001b[43m,\u001b[49m\u001b[43m \u001b[49m\u001b[43mdata\u001b[49m\u001b[43m=\u001b[49m\u001b[43mdata\u001b[49m\u001b[43m,\u001b[49m\u001b[43m \u001b[49m\u001b[43mjson\u001b[49m\u001b[43m=\u001b[49m\u001b[43mjson\u001b[49m\u001b[43m,\u001b[49m\u001b[43m \u001b[49m\u001b[43m*\u001b[49m\u001b[43m*\u001b[49m\u001b[43mkwargs\u001b[49m\u001b[43m)\u001b[49m\n",
      "\u001b[36mFile \u001b[39m\u001b[32m~/miniconda3/envs/vllm_py312/lib/python3.12/site-packages/requests/api.py:59\u001b[39m, in \u001b[36mrequest\u001b[39m\u001b[34m(method, url, **kwargs)\u001b[39m\n\u001b[32m     55\u001b[39m \u001b[38;5;66;03m# By using the 'with' statement we are sure the session is closed, thus we\u001b[39;00m\n\u001b[32m     56\u001b[39m \u001b[38;5;66;03m# avoid leaving sockets open which can trigger a ResourceWarning in some\u001b[39;00m\n\u001b[32m     57\u001b[39m \u001b[38;5;66;03m# cases, and look like a memory leak in others.\u001b[39;00m\n\u001b[32m     58\u001b[39m \u001b[38;5;28;01mwith\u001b[39;00m sessions.Session() \u001b[38;5;28;01mas\u001b[39;00m session:\n\u001b[32m---> \u001b[39m\u001b[32m59\u001b[39m     \u001b[38;5;28;01mreturn\u001b[39;00m \u001b[43msession\u001b[49m\u001b[43m.\u001b[49m\u001b[43mrequest\u001b[49m\u001b[43m(\u001b[49m\u001b[43mmethod\u001b[49m\u001b[43m=\u001b[49m\u001b[43mmethod\u001b[49m\u001b[43m,\u001b[49m\u001b[43m \u001b[49m\u001b[43murl\u001b[49m\u001b[43m=\u001b[49m\u001b[43murl\u001b[49m\u001b[43m,\u001b[49m\u001b[43m \u001b[49m\u001b[43m*\u001b[49m\u001b[43m*\u001b[49m\u001b[43mkwargs\u001b[49m\u001b[43m)\u001b[49m\n",
      "\u001b[36mFile \u001b[39m\u001b[32m~/miniconda3/envs/vllm_py312/lib/python3.12/site-packages/requests/sessions.py:589\u001b[39m, in \u001b[36mSession.request\u001b[39m\u001b[34m(self, method, url, params, data, headers, cookies, files, auth, timeout, allow_redirects, proxies, hooks, stream, verify, cert, json)\u001b[39m\n\u001b[32m    584\u001b[39m send_kwargs = {\n\u001b[32m    585\u001b[39m     \u001b[33m\"\u001b[39m\u001b[33mtimeout\u001b[39m\u001b[33m\"\u001b[39m: timeout,\n\u001b[32m    586\u001b[39m     \u001b[33m\"\u001b[39m\u001b[33mallow_redirects\u001b[39m\u001b[33m\"\u001b[39m: allow_redirects,\n\u001b[32m    587\u001b[39m }\n\u001b[32m    588\u001b[39m send_kwargs.update(settings)\n\u001b[32m--> \u001b[39m\u001b[32m589\u001b[39m resp = \u001b[38;5;28;43mself\u001b[39;49m\u001b[43m.\u001b[49m\u001b[43msend\u001b[49m\u001b[43m(\u001b[49m\u001b[43mprep\u001b[49m\u001b[43m,\u001b[49m\u001b[43m \u001b[49m\u001b[43m*\u001b[49m\u001b[43m*\u001b[49m\u001b[43msend_kwargs\u001b[49m\u001b[43m)\u001b[49m\n\u001b[32m    591\u001b[39m \u001b[38;5;28;01mreturn\u001b[39;00m resp\n",
      "\u001b[36mFile \u001b[39m\u001b[32m~/miniconda3/envs/vllm_py312/lib/python3.12/site-packages/requests/sessions.py:703\u001b[39m, in \u001b[36mSession.send\u001b[39m\u001b[34m(self, request, **kwargs)\u001b[39m\n\u001b[32m    700\u001b[39m start = preferred_clock()\n\u001b[32m    702\u001b[39m \u001b[38;5;66;03m# Send the request\u001b[39;00m\n\u001b[32m--> \u001b[39m\u001b[32m703\u001b[39m r = \u001b[43madapter\u001b[49m\u001b[43m.\u001b[49m\u001b[43msend\u001b[49m\u001b[43m(\u001b[49m\u001b[43mrequest\u001b[49m\u001b[43m,\u001b[49m\u001b[43m \u001b[49m\u001b[43m*\u001b[49m\u001b[43m*\u001b[49m\u001b[43mkwargs\u001b[49m\u001b[43m)\u001b[49m\n\u001b[32m    705\u001b[39m \u001b[38;5;66;03m# Total elapsed time of the request (approximately)\u001b[39;00m\n\u001b[32m    706\u001b[39m elapsed = preferred_clock() - start\n",
      "\u001b[36mFile \u001b[39m\u001b[32m~/miniconda3/envs/vllm_py312/lib/python3.12/site-packages/requests/adapters.py:700\u001b[39m, in \u001b[36mHTTPAdapter.send\u001b[39m\u001b[34m(self, request, stream, timeout, verify, cert, proxies)\u001b[39m\n\u001b[32m    696\u001b[39m     \u001b[38;5;28;01mif\u001b[39;00m \u001b[38;5;28misinstance\u001b[39m(e.reason, _SSLError):\n\u001b[32m    697\u001b[39m         \u001b[38;5;66;03m# This branch is for urllib3 v1.22 and later.\u001b[39;00m\n\u001b[32m    698\u001b[39m         \u001b[38;5;28;01mraise\u001b[39;00m SSLError(e, request=request)\n\u001b[32m--> \u001b[39m\u001b[32m700\u001b[39m     \u001b[38;5;28;01mraise\u001b[39;00m \u001b[38;5;167;01mConnectionError\u001b[39;00m(e, request=request)\n\u001b[32m    702\u001b[39m \u001b[38;5;28;01mexcept\u001b[39;00m ClosedPoolError \u001b[38;5;28;01mas\u001b[39;00m e:\n\u001b[32m    703\u001b[39m     \u001b[38;5;28;01mraise\u001b[39;00m \u001b[38;5;167;01mConnectionError\u001b[39;00m(e, request=request)\n",
      "\u001b[31mConnectionError\u001b[39m: HTTPConnectionPool(host='localhost', port=8000): Max retries exceeded with url: /v1/chat/completions (Caused by NewConnectionError('<urllib3.connection.HTTPConnection object at 0x72f7a880a720>: Failed to establish a new connection: [Errno 111] Connection refused'))"
     ]
    },
    {
     "name": "stdout",
     "output_type": "stream",
     "text": [
      "INFO 09-18 20:18:47 [__init__.py:241] Automatically detected platform cuda.\n",
      "\u001b[1;36m(APIServer pid=901385)\u001b[0;0m INFO 09-18 20:18:49 [api_server.py:1805] vLLM API server version 0.10.1.1\n",
      "\u001b[1;36m(APIServer pid=901385)\u001b[0;0m INFO 09-18 20:18:49 [utils.py:326] non-default args: {'model_tag': 'Qwen/Qwen3-Next-80B-A3B-Instruct', 'model': 'Qwen/Qwen3-Next-80B-A3B-Instruct', 'served_model_name': ['qwen3-next'], 'tensor_parallel_size': 4}\n"
     ]
    },
    {
     "name": "stderr",
     "output_type": "stream",
     "text": [
      "\u001b[1;36m(APIServer pid=901385)\u001b[0;0m Traceback (most recent call last):\n",
      "\u001b[1;36m(APIServer pid=901385)\u001b[0;0m   File \"/home/mitesh/miniconda3/envs/vllm_py312/bin/vllm\", line 8, in <module>\n",
      "\u001b[1;36m(APIServer pid=901385)\u001b[0;0m     sys.exit(main())\n",
      "\u001b[1;36m(APIServer pid=901385)\u001b[0;0m              ^^^^^^\n",
      "\u001b[1;36m(APIServer pid=901385)\u001b[0;0m   File \"/home/mitesh/miniconda3/envs/vllm_py312/lib/python3.12/site-packages/vllm/entrypoints/cli/main.py\", line 54, in main\n",
      "\u001b[1;36m(APIServer pid=901385)\u001b[0;0m     args.dispatch_function(args)\n",
      "\u001b[1;36m(APIServer pid=901385)\u001b[0;0m   File \"/home/mitesh/miniconda3/envs/vllm_py312/lib/python3.12/site-packages/vllm/entrypoints/cli/serve.py\", line 50, in cmd\n",
      "\u001b[1;36m(APIServer pid=901385)\u001b[0;0m     uvloop.run(run_server(args))\n",
      "\u001b[1;36m(APIServer pid=901385)\u001b[0;0m   File \"/home/mitesh/miniconda3/envs/vllm_py312/lib/python3.12/site-packages/uvloop/__init__.py\", line 109, in run\n",
      "\u001b[1;36m(APIServer pid=901385)\u001b[0;0m     return __asyncio.run(\n",
      "\u001b[1;36m(APIServer pid=901385)\u001b[0;0m            ^^^^^^^^^^^^^^\n",
      "\u001b[1;36m(APIServer pid=901385)\u001b[0;0m   File \"/home/mitesh/miniconda3/envs/vllm_py312/lib/python3.12/asyncio/runners.py\", line 195, in run\n",
      "\u001b[1;36m(APIServer pid=901385)\u001b[0;0m     return runner.run(main)\n",
      "\u001b[1;36m(APIServer pid=901385)\u001b[0;0m            ^^^^^^^^^^^^^^^^\n",
      "\u001b[1;36m(APIServer pid=901385)\u001b[0;0m   File \"/home/mitesh/miniconda3/envs/vllm_py312/lib/python3.12/asyncio/runners.py\", line 118, in run\n",
      "\u001b[1;36m(APIServer pid=901385)\u001b[0;0m     return self._loop.run_until_complete(task)\n",
      "\u001b[1;36m(APIServer pid=901385)\u001b[0;0m            ^^^^^^^^^^^^^^^^^^^^^^^^^^^^^^^^^^^\n",
      "\u001b[1;36m(APIServer pid=901385)\u001b[0;0m   File \"uvloop/loop.pyx\", line 1518, in uvloop.loop.Loop.run_until_complete\n",
      "\u001b[1;36m(APIServer pid=901385)\u001b[0;0m   File \"/home/mitesh/miniconda3/envs/vllm_py312/lib/python3.12/site-packages/uvloop/__init__.py\", line 61, in wrapper\n",
      "\u001b[1;36m(APIServer pid=901385)\u001b[0;0m     return await main\n",
      "\u001b[1;36m(APIServer pid=901385)\u001b[0;0m            ^^^^^^^^^^\n",
      "\u001b[1;36m(APIServer pid=901385)\u001b[0;0m   File \"/home/mitesh/miniconda3/envs/vllm_py312/lib/python3.12/site-packages/vllm/entrypoints/openai/api_server.py\", line 1850, in run_server\n",
      "\u001b[1;36m(APIServer pid=901385)\u001b[0;0m     await run_server_worker(listen_address, sock, args, **uvicorn_kwargs)\n",
      "\u001b[1;36m(APIServer pid=901385)\u001b[0;0m   File \"/home/mitesh/miniconda3/envs/vllm_py312/lib/python3.12/site-packages/vllm/entrypoints/openai/api_server.py\", line 1870, in run_server_worker\n",
      "\u001b[1;36m(APIServer pid=901385)\u001b[0;0m     async with build_async_engine_client(\n",
      "\u001b[1;36m(APIServer pid=901385)\u001b[0;0m                ^^^^^^^^^^^^^^^^^^^^^^^^^^\n",
      "\u001b[1;36m(APIServer pid=901385)\u001b[0;0m   File \"/home/mitesh/miniconda3/envs/vllm_py312/lib/python3.12/contextlib.py\", line 210, in __aenter__\n",
      "\u001b[1;36m(APIServer pid=901385)\u001b[0;0m     return await anext(self.gen)\n",
      "\u001b[1;36m(APIServer pid=901385)\u001b[0;0m            ^^^^^^^^^^^^^^^^^^^^^\n",
      "\u001b[1;36m(APIServer pid=901385)\u001b[0;0m   File \"/home/mitesh/miniconda3/envs/vllm_py312/lib/python3.12/site-packages/vllm/entrypoints/openai/api_server.py\", line 178, in build_async_engine_client\n",
      "\u001b[1;36m(APIServer pid=901385)\u001b[0;0m     async with build_async_engine_client_from_engine_args(\n",
      "\u001b[1;36m(APIServer pid=901385)\u001b[0;0m                ^^^^^^^^^^^^^^^^^^^^^^^^^^^^^^^^^^^^^^^^^^^\n",
      "\u001b[1;36m(APIServer pid=901385)\u001b[0;0m   File \"/home/mitesh/miniconda3/envs/vllm_py312/lib/python3.12/contextlib.py\", line 210, in __aenter__\n",
      "\u001b[1;36m(APIServer pid=901385)\u001b[0;0m     return await anext(self.gen)\n",
      "\u001b[1;36m(APIServer pid=901385)\u001b[0;0m            ^^^^^^^^^^^^^^^^^^^^^\n",
      "\u001b[1;36m(APIServer pid=901385)\u001b[0;0m   File \"/home/mitesh/miniconda3/envs/vllm_py312/lib/python3.12/site-packages/vllm/entrypoints/openai/api_server.py\", line 204, in build_async_engine_client_from_engine_args\n",
      "\u001b[1;36m(APIServer pid=901385)\u001b[0;0m     vllm_config = engine_args.create_engine_config(usage_context=usage_context)\n",
      "\u001b[1;36m(APIServer pid=901385)\u001b[0;0m                   ^^^^^^^^^^^^^^^^^^^^^^^^^^^^^^^^^^^^^^^^^^^^^^^^^^^^^^^^^^^^^\n",
      "\u001b[1;36m(APIServer pid=901385)\u001b[0;0m   File \"/home/mitesh/miniconda3/envs/vllm_py312/lib/python3.12/site-packages/vllm/engine/arg_utils.py\", line 1057, in create_engine_config\n",
      "\u001b[1;36m(APIServer pid=901385)\u001b[0;0m     model_config = self.create_model_config()\n",
      "\u001b[1;36m(APIServer pid=901385)\u001b[0;0m                    ^^^^^^^^^^^^^^^^^^^^^^^^^^\n",
      "\u001b[1;36m(APIServer pid=901385)\u001b[0;0m   File \"/home/mitesh/miniconda3/envs/vllm_py312/lib/python3.12/site-packages/vllm/engine/arg_utils.py\", line 904, in create_model_config\n",
      "\u001b[1;36m(APIServer pid=901385)\u001b[0;0m     return ModelConfig(\n",
      "\u001b[1;36m(APIServer pid=901385)\u001b[0;0m            ^^^^^^^^^^^^\n",
      "\u001b[1;36m(APIServer pid=901385)\u001b[0;0m   File \"/home/mitesh/miniconda3/envs/vllm_py312/lib/python3.12/site-packages/pydantic/_internal/_dataclasses.py\", line 123, in __init__\n",
      "\u001b[1;36m(APIServer pid=901385)\u001b[0;0m     s.__pydantic_validator__.validate_python(ArgsKwargs(args, kwargs), self_instance=s)\n",
      "\u001b[1;36m(APIServer pid=901385)\u001b[0;0m pydantic_core._pydantic_core.ValidationError: 1 validation error for ModelConfig\n",
      "\u001b[1;36m(APIServer pid=901385)\u001b[0;0m   Value error, The checkpoint you are trying to load has model type `qwen3_next` but Transformers does not recognize this architecture. This could be because of an issue with the checkpoint, or because your version of Transformers is out of date.\n",
      "\u001b[1;36m(APIServer pid=901385)\u001b[0;0m \n",
      "\u001b[1;36m(APIServer pid=901385)\u001b[0;0m You can update Transformers with the command `pip install --upgrade transformers`. If this does not work, and the checkpoint is very new, then there may not be a release version that supports this model yet. In this case, you can get the most up-to-date code by installing Transformers from source with the command `pip install git+https://github.com/huggingface/transformers.git` [type=value_error, input_value=ArgsKwargs((), {'model': ...gits_processors': None}), input_type=ArgsKwargs]\n",
      "\u001b[1;36m(APIServer pid=901385)\u001b[0;0m     For further information visit https://errors.pydantic.dev/2.11/v/value_error\n"
     ]
    }
   ],
   "source": [
    "# Usage example\n",
    "\n",
    "user_prompt = \" What is the capital of France and why do people travel go there? \"\n",
    "output = inference(user_prompt)\n",
    "result = output['choices'][0]['message']['content']\n",
    "print(result)"
   ]
  },
  {
   "cell_type": "code",
   "execution_count": null,
   "metadata": {},
   "outputs": [],
   "source": [
    "### Inference using vLLM python client"
   ]
  },
  {
   "cell_type": "code",
   "execution_count": null,
   "metadata": {},
   "outputs": [],
   "source": [
    "import os\n",
    "from vllm import LLM, SamplingParams\n",
    "\n",
    "MODEL_ID = \"Qwen/Qwen3-Next-80B-A3B-Instruct\"\n",
    "\n",
    "llm = LLM(\n",
    "    model=MODEL_ID,\n",
    "    dtype=\"bfloat16\",\n",
    "    trust_remote_code=True,\n",
    "    max_model_len=65536,\n",
    "    gpu_memory_utilization=0.95,\n",
    "    tensor_parallel_size=4,\n",
    ")\n",
    "\n",
    "print(\"Model ready\")"
   ]
  },
  {
   "cell_type": "markdown",
   "metadata": {},
   "source": [
    "### Generate: single and batch"
   ]
  },
  {
   "cell_type": "code",
   "execution_count": null,
   "metadata": {},
   "outputs": [],
   "source": [
    "params = SamplingParams(temperature=0.6, max_tokens=200)\n",
    "\n",
    "# Single prompt\n",
    "single = llm.generate([\"What is Nemotron Super?\"], sampling_params=params)\n",
    "print(single[0].outputs[0].text)\n",
    "\n",
    "# Batch prompts\n",
    "prompts = [\n",
    "    \"Hello, my name is\",\n",
    "    \"The capital of France is\",\n",
    "    \"Explain quantum computing in simple terms:\"\n",
    "]\n",
    "outputs = llm.generate(prompts, sampling_params=params)\n",
    "for i, out in enumerate(outputs):\n",
    "    print(f\"\\nPrompt {i+1}: {out.prompt!r}\")\n",
    "    print(out.outputs[0].text)"
   ]
  },
  {
   "cell_type": "markdown",
   "metadata": {},
   "source": [
    "# Conclusion and Next Steps\n",
    "Congratulations! You successfully deployed `Qwen3-Next` using vLLM.\n",
    "\n",
    "In this notebook, you have learned how to:\n",
    "- Set up your environment with the necessary dependencies.\n",
    "- Use vllm serve to deploy the model.\n",
    "- Run inference."
   ]
  }
 ],
 "metadata": {
  "kernelspec": {
   "display_name": "vllm_py312",
   "language": "python",
   "name": "python3"
  },
  "language_info": {
   "codemirror_mode": {
    "name": "ipython",
    "version": 3
   },
   "file_extension": ".py",
   "mimetype": "text/x-python",
   "name": "python",
   "nbconvert_exporter": "python",
   "pygments_lexer": "ipython3",
   "version": "3.12.9"
  }
 },
 "nbformat": 4,
 "nbformat_minor": 4
}
